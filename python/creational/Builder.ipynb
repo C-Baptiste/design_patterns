{
 "cells": [
  {
   "cell_type": "markdown",
   "id": "1cdaccbd-1d19-4c37-9644-dbc76bffcc92",
   "metadata": {},
   "source": [
    "- create complex object (eg: object with 10 initializer arguments)\n",
    "- Builder provide an API for constructing an object step-by-step"
   ]
  },
  {
   "cell_type": "code",
   "execution_count": 1,
   "id": "58b402e0-474f-452a-ae96-400d67d922ca",
   "metadata": {},
   "outputs": [
    {
     "name": "stdout",
     "output_type": "stream",
     "text": [
      "<p>hell</p>\n"
     ]
    }
   ],
   "source": [
    "text = 'hell'\n",
    "parts = ['<p>', text, '</p>']\n",
    "print(''.join(parts))"
   ]
  },
  {
   "cell_type": "code",
   "execution_count": null,
   "id": "d8cfc215-ad11-4ea6-bc1b-b044c9f4e026",
   "metadata": {},
   "outputs": [],
   "source": [
    "class HtmlElement:\n",
    "    indent_size = 2\n",
    "\n",
    "    def __init__(self, name='', text=''):\n",
    "        self.text = text\n",
    "        self.name = name\n",
    "        self.elements = []\n",
    "\n",
    "    def "
   ]
  },
  {
   "cell_type": "code",
   "execution_count": null,
   "id": "7bc0181b-3623-4c6b-9518-280f5307f5d3",
   "metadata": {},
   "outputs": [],
   "source": [
    "class HtmlBuilder:\n",
    "    def __init__(self, root_name):\n",
    "        self.root_name = root_name\n",
    "        self.__root = HtmlElement(name=root_name)"
   ]
  }
 ],
 "metadata": {
  "kernelspec": {
   "display_name": "Python 3 (ipykernel)",
   "language": "python",
   "name": "python3"
  },
  "language_info": {
   "codemirror_mode": {
    "name": "ipython",
    "version": 3
   },
   "file_extension": ".py",
   "mimetype": "text/x-python",
   "name": "python",
   "nbconvert_exporter": "python",
   "pygments_lexer": "ipython3",
   "version": "3.9.2"
  }
 },
 "nbformat": 4,
 "nbformat_minor": 5
}
